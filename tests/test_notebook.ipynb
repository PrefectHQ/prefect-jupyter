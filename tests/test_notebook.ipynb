{
 "cells": [
  {
   "cell_type": "markdown",
   "id": "6db0b88e",
   "metadata": {},
   "source": [
    "\n",
    "A task that represents a subflow will be annotated as such in its `state_details` via the presence of a `child_flow_run_id` field.  A subflow can be identified via the presence of a `parent_task_run_id` on `state_details`."
   ]
  },
  {
   "cell_type": "code",
   "execution_count": 9,
   "id": "3de584ed",
   "metadata": {},
   "outputs": [
    {
     "name": "stdout",
     "output_type": "stream",
     "text": [
      "True\n"
     ]
    }
   ],
   "source": [
    "\n",
    "def is_notebook() -> bool:\n",
    "    try:\n",
    "        shell = get_ipython().__class__.__name__\n",
    "        if shell == 'ZMQInteractiveShell':\n",
    "            return True   # Jupyter notebook or qtconsole\n",
    "        elif shell == 'TerminalInteractiveShell':\n",
    "            return False  # Terminal running IPython\n",
    "        else:\n",
    "            return False  # Other type (?)\n",
    "    except NameError:\n",
    "        return False      # Probably standard Python interpreter\n",
    "\n",
    "print(is_notebook())"
   ]
  },
  {
   "cell_type": "code",
   "execution_count": null,
   "id": "4ff965c5",
   "metadata": {
    "ExecuteTime": {
     "end_time": "2022-08-19T00:33:38.521242Z",
     "start_time": "2022-08-19T00:33:38.518357Z"
    },
    "tags": [
     "parameters"
    ]
   },
   "outputs": [],
   "source": [
    "one = 1\n",
    "two = 2\n",
    "num = one + two\n"
   ]
  },
  {
   "cell_type": "markdown",
   "id": "3c5908c9",
   "metadata": {},
   "source": [
    "# Read from pickle"
   ]
  },
  {
   "cell_type": "code",
   "execution_count": null,
   "id": "02d88950",
   "metadata": {},
   "outputs": [],
   "source": [
    "# import anyio\n",
    "# from prefect import flow\n",
    "# from prefect.results import ResultFactory\n",
    "# from prefect.context import FlowRunContext\n",
    "# from prefect.client.orion import get_client\n",
    "# from prefect.task_runners import ConcurrentTaskRunner\n",
    "# from contextlib import AsyncExitStack\n",
    "# import cloudpickle\n",
    "# with open(flow_run_context_filename, \"rb\") as f:\n",
    "#     flow_run_context_kwargs = cloudpickle.load(f)\n",
    "\n",
    "# stack = AsyncExitStack()\n",
    "# client = await stack.enter_async_context(get_client())\n",
    "# background_tasks = await stack.enter_async_context(\n",
    "#     anyio.create_task_group()\n",
    "# )\n",
    "# flow_run_context = FlowRunContext(\n",
    "#     client=client,\n",
    "#     background_tasks=background_tasks,\n",
    "#     **flow_run_context_kwargs\n",
    "# )\n",
    "# print(flow_run_context)"
   ]
  },
  {
   "cell_type": "markdown",
   "id": "cb411958",
   "metadata": {},
   "source": [
    "# Dummy flow and flow_run_id will be injected as a param"
   ]
  },
  {
   "cell_type": "code",
   "execution_count": null,
   "id": "5e3d1060",
   "metadata": {},
   "outputs": [],
   "source": [
    "import anyio\n",
    "from prefect import flow\n",
    "from prefect.results import ResultFactory\n",
    "from prefect.context import FlowRunContext\n",
    "from prefect.client.orion import get_client\n",
    "from prefect.task_runners import ConcurrentTaskRunner\n",
    "from contextlib import AsyncExitStack\n",
    "\n",
    "\n",
    "@flow\n",
    "async def dummy_flow():\n",
    "    ...\n",
    "\n",
    "stack = AsyncExitStack()\n",
    "client = await stack.enter_async_context(get_client())\n",
    "\n",
    "dummy_result_factory = await ResultFactory.from_flow(dummy_flow, client=client)\n",
    "flow_run = await client.read_flow_run(flow_run_id)\n",
    "background_tasks = await stack.enter_async_context(\n",
    "    anyio.create_task_group()\n",
    ")\n",
    "sync_portal = stack.enter_context(anyio.start_blocking_portal())\n",
    "flow_run_context = FlowRunContext(\n",
    "    flow=dummy_flow,  # dummy flow,\n",
    "    flow_run=flow_run,  # the desired flow run\n",
    "    client=client,\n",
    "    result_factory=dummy_result_factory,\n",
    "    task_runner=ConcurrentTaskRunner(),\n",
    "    background_tasks=background_tasks,\n",
    "    sync_portal=sync_portal\n",
    ")"
   ]
  },
  {
   "cell_type": "markdown",
   "id": "f6af8654",
   "metadata": {},
   "source": [
    "# Make context available through whole notebook "
   ]
  },
  {
   "cell_type": "code",
   "execution_count": null,
   "id": "e3d14748",
   "metadata": {},
   "outputs": [],
   "source": [
    "flow_run_context.__enter__()"
   ]
  },
  {
   "cell_type": "markdown",
   "id": "ebda945a",
   "metadata": {},
   "source": [
    "# Run subflow"
   ]
  },
  {
   "cell_type": "code",
   "execution_count": null,
   "id": "c01a9b5f",
   "metadata": {},
   "outputs": [],
   "source": [
    "from prefect import flow, get_run_logger\n",
    "from prefect.context import FlowRunContext\n",
    "\n",
    "@flow\n",
    "def inner_flow():\n",
    "    logger = get_run_logger()\n",
    "    flow_run_context = FlowRunContext.get()\n",
    "    logger.info(str(flow_run_context))\n",
    "    logger.info(\"IT RAN\")\n",
    "\n",
    "inner_flow()"
   ]
  },
  {
   "cell_type": "markdown",
   "id": "4f8d0f70",
   "metadata": {},
   "source": [
    "#  Exit to stop pending"
   ]
  },
  {
   "cell_type": "code",
   "execution_count": null,
   "id": "88cefc05",
   "metadata": {},
   "outputs": [],
   "source": [
    "flow_run_context.__exit__()"
   ]
  },
  {
   "cell_type": "markdown",
   "id": "9bd22bf9",
   "metadata": {},
   "source": [
    "# idea for injecting code into notebook"
   ]
  },
  {
   "cell_type": "code",
   "execution_count": null,
   "id": "462ac92c",
   "metadata": {},
   "outputs": [],
   "source": [
    "import nbformat\n",
    "from papermill.iorw import papermill_io\n",
    "from papermill import execute_notebook\n",
    "\n",
    "notebook_path = \"test_notebook.ipynb\"\n",
    "\n",
    "nb = nbformat.reads(papermill_io.read(notebook_path), as_version=4)\n",
    "# add injected code here...\n",
    "# then run\n",
    "execute_notebook(nb, None)"
   ]
  }
 ],
 "metadata": {
  "celltoolbar": "Tags",
  "kernelspec": {
   "display_name": "Python 3.9.13 ('jupyter')",
   "language": "python",
   "name": "python3"
  },
  "language_info": {
   "codemirror_mode": {
    "name": "ipython",
    "version": 3
   },
   "file_extension": ".py",
   "mimetype": "text/x-python",
   "name": "python",
   "nbconvert_exporter": "python",
   "pygments_lexer": "ipython3",
   "version": "3.9.13"
  },
  "vscode": {
   "interpreter": {
    "hash": "00ea3ad99d98182f5d2ee8b21f151437d49b6ef7cf7421d7fe9944a1984fe7bf"
   }
  }
 },
 "nbformat": 4,
 "nbformat_minor": 5
}
