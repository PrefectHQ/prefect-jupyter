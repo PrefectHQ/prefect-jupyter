{
 "cells": [
  {
   "cell_type": "code",
   "execution_count": null,
   "id": "4ff965c5",
   "metadata": {
    "ExecuteTime": {
     "end_time": "2022-08-19T00:33:38.521242Z",
     "start_time": "2022-08-19T00:33:38.518357Z"
    },
    "tags": [
     "parameters"
    ]
   },
   "outputs": [],
   "source": [
    "one = 1\n",
    "two = 2\n",
    "num = one + two"
   ]
  },
  {
   "cell_type": "code",
   "execution_count": null,
   "id": "8e6461ee",
   "metadata": {
    "ExecuteTime": {
     "end_time": "2022-08-19T00:34:28.926313Z",
     "start_time": "2022-08-19T00:34:28.922584Z"
    }
   },
   "outputs": [],
   "source": [
    "print(f\"one is {one}, {two} is two, num is {num}!\")"
   ]
  }
 ],
 "metadata": {
  "celltoolbar": "Tags",
  "kernelspec": {
   "display_name": "Python 3 (ipykernel)",
   "language": "python",
   "name": "python3"
  },
  "language_info": {
   "codemirror_mode": {
    "name": "ipython",
    "version": 3
   },
   "file_extension": ".py",
   "mimetype": "text/x-python",
   "name": "python",
   "nbconvert_exporter": "python",
   "pygments_lexer": "ipython3",
   "version": "3.9.7"
  }
 },
 "nbformat": 4,
 "nbformat_minor": 5
}
